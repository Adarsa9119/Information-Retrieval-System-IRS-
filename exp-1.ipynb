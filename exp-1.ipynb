{
 "cells": [
  {
   "cell_type": "code",
   "execution_count": 3,
   "id": "49e40dd1-4802-4eac-8d31-b07276d8a350",
   "metadata": {},
   "outputs": [
    {
     "name": "stdout",
     "output_type": "stream",
     "text": [
      "TF-IDF Matrix:\n",
      "[[0.         0.57615236 0.40993715 0.         0.40993715 0.57615236]\n",
      " [0.57615236 0.         0.40993715 0.57615236 0.40993715 0.        ]]\n",
      "\n",
      "Vocabulary (terms):\n",
      "['extraction' 'fun' 'information' 'interesting' 'is' 'retrieval']\n",
      "\n",
      "Cosine Similarity between Document 1 and Document 2:\n",
      "0.3360969272762575\n"
     ]
    }
   ],
   "source": [
    "from sklearn.feature_extraction.text import TfidfVectorizer\n",
    "from sklearn.metrics.pairwise import cosine_similarity\n",
    "\n",
    "doc1 = \"Information Retrieval is fun\"\n",
    "doc2 = \"Information Extraction is interesting\"\n",
    "\n",
    "documents = [doc1, doc2]\n",
    "\n",
    "vectorizer = TfidfVectorizer()\n",
    "tfidf_matrix = vectorizer.fit_transform(documents)\n",
    "\n",
    "print(\"TF-IDF Matrix:\")\n",
    "print(tfidf_matrix.toarray())\n",
    "\n",
    "print(\"\\nVocabulary (terms):\")\n",
    "print(vectorizer.get_feature_names_out())\n",
    "\n",
    "similarity = cosine_similarity(tfidf_matrix[0:1], tfidf_matrix[1:2])\n",
    "\n",
    "print(\"\\nCosine Similarity between Document 1 and Document 2:\")\n",
    "print(similarity[0][0])\n"
   ]
  }
 ],
 "metadata": {
  "kernelspec": {
   "display_name": "Python [conda env:base] *",
   "language": "python",
   "name": "conda-base-py"
  },
  "language_info": {
   "codemirror_mode": {
    "name": "ipython",
    "version": 3
   },
   "file_extension": ".py",
   "mimetype": "text/x-python",
   "name": "python",
   "nbconvert_exporter": "python",
   "pygments_lexer": "ipython3",
   "version": "3.12.4"
  }
 },
 "nbformat": 4,
 "nbformat_minor": 5
}
