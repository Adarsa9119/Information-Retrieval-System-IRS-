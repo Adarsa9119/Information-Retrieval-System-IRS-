{
 "cells": [
  {
   "cell_type": "code",
   "execution_count": 13,
   "id": "57fdaede-cdd6-4cbe-8403-afb823d4d711",
   "metadata": {},
   "outputs": [
    {
     "name": "stderr",
     "output_type": "stream",
     "text": [
      "[nltk_data] Downloading package punkt to\n",
      "[nltk_data]     C:\\Users\\Admin\\AppData\\Roaming\\nltk_data...\n"
     ]
    },
    {
     "name": "stdout",
     "output_type": "stream",
     "text": [
      "Total documents indexed: 1\n",
      "Vocabulary size: 34\n",
      "Inverted index saved to 'inverted_index.json'.\n",
      "'rapidli': [1]\n",
      "'industri': [1]\n",
      "'drive': [1]\n",
      "'essenti': [1]\n",
      "'interconnect': [1]\n",
      "'innov': [1]\n",
      "'progress': [1]\n",
      "'work': [1]\n",
      "'dynam': [1]\n",
      "'solv': [1]\n"
     ]
    },
    {
     "name": "stderr",
     "output_type": "stream",
     "text": [
      "[nltk_data]   Unzipping tokenizers\\punkt.zip.\n",
      "[nltk_data] Downloading package stopwords to\n",
      "[nltk_data]     C:\\Users\\Admin\\AppData\\Roaming\\nltk_data...\n",
      "[nltk_data]   Package stopwords is already up-to-date!\n"
     ]
    }
   ],
   "source": [
    "import os\n",
    "import nltk\n",
    "import json\n",
    "from collections import defaultdict\n",
    "from nltk.corpus import stopwords\n",
    "from nltk.tokenize import word_tokenize\n",
    "from nltk.stem import PorterStemmer\n",
    "\n",
    "# Download resources (only need to run once)\n",
    "nltk.download('punkt')\n",
    "nltk.download('stopwords')\n",
    "\n",
    "# Path to folder with .txt files\n",
    "docs_folder = r\"C:\\Users\\Admin\\Desktop\\my_text_files\" # <-- update this\n",
    "\n",
    "stop_words = set(stopwords.words('english'))\n",
    "stemmer = PorterStemmer()\n",
    "\n",
    "inverted_index = defaultdict(set)\n",
    "total_docs = 0\n",
    "\n",
    "for filename in os.listdir(docs_folder):\n",
    "    if filename.endswith('.txt'):\n",
    "        total_docs += 1\n",
    "        doc_id = total_docs\n",
    "        file_path = os.path.join(docs_folder, filename)\n",
    "        \n",
    "        with open(file_path, 'r', encoding='utf-8') as f:\n",
    "            text = f.read()\n",
    "        \n",
    "        tokens = word_tokenize(text.lower())\n",
    "        tokens = [stemmer.stem(word) for word in tokens if word.isalnum() and word not in stop_words]\n",
    "\n",
    "        for word in set(tokens):\n",
    "            inverted_index[word].add(doc_id)\n",
    "\n",
    "print(f\"Total documents indexed: {total_docs}\")\n",
    "print(f\"Vocabulary size: {len(inverted_index)}\")\n",
    "\n",
    "# Convert sets to sorted lists for JSON serialization\n",
    "inverted_index = {term: sorted(list(doc_ids)) for term, doc_ids in inverted_index.items()}\n",
    "\n",
    "with open('inverted_index.json', 'w', encoding='utf-8') as f:\n",
    "    json.dump(inverted_index, f, indent=4)\n",
    "\n",
    "print(\"Inverted index saved to 'inverted_index.json'.\")\n",
    "\n",
    "# Show first 10 terms and their posting lists\n",
    "for term in list(inverted_index.keys())[:10]:\n",
    "    print(f\"'{term}': {inverted_index[term]}\")\n"
   ]
  }
 ],
 "metadata": {
  "kernelspec": {
   "display_name": "Python [conda env:base] *",
   "language": "python",
   "name": "conda-base-py"
  },
  "language_info": {
   "codemirror_mode": {
    "name": "ipython",
    "version": 3
   },
   "file_extension": ".py",
   "mimetype": "text/x-python",
   "name": "python",
   "nbconvert_exporter": "python",
   "pygments_lexer": "ipython3",
   "version": "3.12.4"
  }
 },
 "nbformat": 4,
 "nbformat_minor": 5
}
