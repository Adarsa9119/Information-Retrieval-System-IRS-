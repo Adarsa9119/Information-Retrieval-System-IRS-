{
 "cells": [
  {
   "cell_type": "code",
   "execution_count": 3,
   "id": "107a6af6-e18d-4045-a7cb-3ee9d64d9524",
   "metadata": {},
   "outputs": [
    {
     "name": "stdout",
     "output_type": "stream",
     "text": [
      "Purity: 0.6903\n",
      "Precision: 0.8227\n",
      "Recall: 0.6817\n",
      "F-measure: 0.7016\n"
     ]
    }
   ],
   "source": [
    "from sklearn.datasets import fetch_20newsgroups\n",
    "from sklearn.feature_extraction.text import TfidfVectorizer\n",
    "from sklearn.cluster import KMeans\n",
    "from sklearn.metrics import precision_score, recall_score, f1_score, confusion_matrix\n",
    "from scipy.optimize import linear_sum_assignment\n",
    "import numpy as np\n",
    "\n",
    "categories = ['alt.atheism', 'comp.graphics', 'sci.space', 'rec.sport.hockey']\n",
    "dataset = fetch_20newsgroups(subset='all', categories=categories,\n",
    "                             remove=('headers', 'footers', 'quotes'))\n",
    "\n",
    "true_labels = dataset.target\n",
    "num_clusters = len(categories)\n",
    "\n",
    "vectorizer = TfidfVectorizer(stop_words='english', max_df=0.5)\n",
    "X = vectorizer.fit_transform(dataset.data)\n",
    "\n",
    "kmeans = KMeans(n_clusters=num_clusters, random_state=42, n_init=10)\n",
    "predicted_clusters = kmeans.fit_predict(X)\n",
    "\n",
    "def purity_score(y_true, y_pred):\n",
    "    contingency_matrix = np.zeros((num_clusters, num_clusters))\n",
    "    for i in range(num_clusters):\n",
    "        cluster_i_indices = np.where(y_pred == i)[0]\n",
    "        true_labels_i = y_true[cluster_i_indices]\n",
    "        contingency_matrix[i, :] = np.bincount(true_labels_i, minlength=num_clusters)\n",
    "    return np.sum(np.amax(contingency_matrix, axis=1)) / np.sum(contingency_matrix)\n",
    "\n",
    "purity = purity_score(true_labels, predicted_clusters)\n",
    "\n",
    "cm = confusion_matrix(true_labels, predicted_clusters)\n",
    "row_ind, col_ind = linear_sum_assignment(-cm)\n",
    "indexes = list(zip(row_ind, col_ind))\n",
    "mapping = {cluster: label for cluster, label in indexes}\n",
    "mapped_preds = np.array([mapping[cluster] for cluster in predicted_clusters])\n",
    "\n",
    "precision = precision_score(true_labels, mapped_preds, average='macro')\n",
    "recall = recall_score(true_labels, mapped_preds, average='macro')\n",
    "f1 = f1_score(true_labels, mapped_preds, average='macro')\n",
    "\n",
    "print(f\"Purity: {purity:.4f}\")\n",
    "print(f\"Precision: {precision:.4f}\")\n",
    "print(f\"Recall: {recall:.4f}\")\n",
    "print(f\"F-measure: {f1:.4f}\")\n"
   ]
  }
 ],
 "metadata": {
  "kernelspec": {
   "display_name": "Python [conda env:base] *",
   "language": "python",
   "name": "conda-base-py"
  },
  "language_info": {
   "codemirror_mode": {
    "name": "ipython",
    "version": 3
   },
   "file_extension": ".py",
   "mimetype": "text/x-python",
   "name": "python",
   "nbconvert_exporter": "python",
   "pygments_lexer": "ipython3",
   "version": "3.12.4"
  }
 },
 "nbformat": 4,
 "nbformat_minor": 5
}
