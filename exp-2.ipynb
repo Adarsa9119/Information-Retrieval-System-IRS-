{
 "cells": [
  {
   "cell_type": "code",
   "execution_count": 3,
   "id": "2fce08ab-4d5b-4684-9545-28ddae62fe8e",
   "metadata": {},
   "outputs": [
    {
     "name": "stderr",
     "output_type": "stream",
     "text": [
      "[nltk_data] Downloading package punkt to\n",
      "[nltk_data]     C:\\Users\\Admin\\AppData\\Roaming\\nltk_data...\n",
      "[nltk_data]   Unzipping tokenizers\\punkt.zip.\n",
      "[nltk_data] Downloading package stopwords to\n",
      "[nltk_data]     C:\\Users\\Admin\\AppData\\Roaming\\nltk_data...\n",
      "[nltk_data]   Package stopwords is already up-to-date!\n"
     ]
    },
    {
     "name": "stdout",
     "output_type": "stream",
     "text": [
      "Original Words: ['Students', 'are', 'studying', 'studies', 'in', 'universities', '.']\n",
      "After Stop Word Removal: ['Students', 'studying', 'studies', 'universities', '.']\n",
      "After Stemming: ['student', 'studi', 'studi', 'univers', '.']\n"
     ]
    }
   ],
   "source": [
    "# Install NLTK if you don't have it\n",
    "# pip install nltk\n",
    "import nltk\n",
    "from nltk.corpus import stopwords\n",
    "from nltk.tokenize import word_tokenize\n",
    "from nltk.stem import PorterStemmer\n",
    "\n",
    "# Download required NLTK data (only once)\n",
    "nltk.download('punkt')\n",
    "nltk.download('stopwords')\n",
    "# Example text\n",
    "text = \"Students are studying studies in universities.\"\n",
    "# 1. Tokenize the text\n",
    "words = word_tokenize(text)\n",
    "\n",
    "print(\"Original Words:\", words)\n",
    "# 2. Remove stop words\n",
    "stop_words = set(stopwords.words('english'))\n",
    "filtered_words = [w for w in words if w.lower() not in stop_words]\n",
    "\n",
    "print(\"After Stop Word Removal:\", filtered_words)\n",
    "# 3. Apply stemming\n",
    "ps = PorterStemmer()\n",
    "stemmed_words = [ps.stem(w) for w in filtered_words]\n",
    "\n",
    "print(\"After Stemming:\", stemmed_words)\n"
   ]
  }
 ],
 "metadata": {
  "kernelspec": {
   "display_name": "Python [conda env:base] *",
   "language": "python",
   "name": "conda-base-py"
  },
  "language_info": {
   "codemirror_mode": {
    "name": "ipython",
    "version": 3
   },
   "file_extension": ".py",
   "mimetype": "text/x-python",
   "name": "python",
   "nbconvert_exporter": "python",
   "pygments_lexer": "ipython3",
   "version": "3.12.4"
  }
 },
 "nbformat": 4,
 "nbformat_minor": 5
}
